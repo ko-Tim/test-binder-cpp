{
 "cells": [
  {
   "cell_type": "markdown",
   "metadata": {},
   "source": [
    "# Input / Output\n",
    "\n",
    "Die Ein- und Ausgabe funktioniert bei C++ über den `iostream`-Header.\n",
    "Dieser liefert unter anderem die zwei Funktionen `cin`und `cout`"
   ]
  },
  {
   "cell_type": "code",
   "execution_count": null,
   "metadata": {},
   "outputs": [],
   "source": [
    "#include <iostream>\n",
    "\n",
    "std::cout<<\"This is a \";\n",
    "std::cout<<\"standard output-string.\";\n",
    "\n",
    "int i = 29;\n",
    "\n",
    "std::cout<<\"The value of the integer i is: \"<<i;"
   ]
  },
  {
   "cell_type": "code",
   "execution_count": null,
   "metadata": {},
   "outputs": [],
   "source": []
  }
 ],
 "metadata": {
  "kernelspec": {
   "display_name": "C++14",
   "language": "C++14",
   "name": "xcpp14"
  },
  "language_info": {
   "codemirror_mode": "text/x-c++src",
   "file_extension": ".cpp",
   "mimetype": "text/x-c++src",
   "name": "c++",
   "version": "14"
  }
 },
 "nbformat": 4,
 "nbformat_minor": 4
}
