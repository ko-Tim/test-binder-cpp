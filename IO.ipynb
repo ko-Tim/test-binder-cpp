{
 "cells": [
  {
   "cell_type": "markdown",
   "metadata": {},
   "source": [
    "# Input / Output"
   ]
  },
  {
   "cell_type": "markdown",
   "metadata": {},
   "source": [
    "## Standard I/O\n",
    "\n",
    "Die Ein- und Ausgabe funktioniert bei C++ über den `iostream`-Header. Dieser liefert unter anderem die zwei Funktionen `std::cin` und `std::cout`."
   ]
  },
  {
   "cell_type": "markdown",
   "metadata": {},
   "source": [
    "### `cout` \n",
    "ist die standard Ausgabe-Funktion und wird mit den insertion operator `<<` gefolgt von einem Satz in \"Anführungszeichen\" benutzt.\n",
    "Für einen Zeilensprung gibt es neben den gewohnten `'\\n'` zusätzlich die Möglichkeit den endlline-operator `std::endl` zu benutzen.\"\n"
   ]
  },
  {
   "cell_type": "code",
   "execution_count": null,
   "metadata": {},
   "outputs": [],
   "source": [
    "#include <iostream>\n",
    "std::cout<<\\\"This is a \\\";\n",
    "std::cout<<\\\"standard output-string.\\\\n\\\";\n",
    "    \n",
    "std::endl(std::cout);\n",
    "std::cout<<\\\"Text in a new line\\\\n\\\";\n",
    "    \n",
    "//std:cout<<\"You can also use the endline operator like this\"<<endl;\n",
    "std::cout<<\"This would normally be in a new line, but Jupyter throws errors when encountering`<<endl`\";"
   ]
  },
  {
   "cell_type": "markdown",
   "metadata": {},
   "source": [
    "\"Möchte man eine Variable in dem String einfügen, deklariert man diese einfach nach einem zusätzlichen insertion operator `<<`.\""
   ]
  },
  {
   "cell_type": "code",
   "execution_count": null,
   "metadata": {},
   "outputs": [],
   "source": [
    "int i = 29;\n",
    "std::cout<<\"The value of the integer i is: \"<<i<<\".\\n\";\n",
    "std::cout<<(i*(i-2)+9)<<\"is a randomly chosen number.\";"
   ]
  },
  {
   "cell_type": "markdown",
   "metadata": {},
   "source": [
    "### `cin` \n",
    "ist die standard Eingabe-Funktion und wird mit den extraction operator `>>` gefolgt von der Variable, der der Input zugeordnet wird, benutzt."
   ]
  },
  {
   "cell_type": "code",
   "execution_count": null,
   "metadata": {},
   "outputs": [],
   "source": [
    "char ch;\n",
    "int i;\n",
    "\n",
    "std::cin>>ch;\n",
    "\n",
    "std::cout<<ch;\n",
    "\n",
    "std::cin>>i;\n",
    "\n",
    "std::cout<<i;"
   ]
  },
  {
   "cell_type": "markdown",
   "metadata": {},
   "source": []
  }
 ],
 "metadata": {
  "kernelspec": {
   "display_name": "C++14",
   "language": "C++14",
   "name": "xcpp14"
  },
  "language_info": {
   "codemirror_mode": "text/x-c++src",
   "file_extension": ".cpp",
   "mimetype": "text/x-c++src",
   "name": "c++",
   "version": "14"
  }
 },
 "nbformat": 4,
 "nbformat_minor": 4
}
