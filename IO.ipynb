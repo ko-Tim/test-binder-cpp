{
 "cells": [
  {
   "cell_type": "markdown",
   "metadata": {},
   "source": [
    "# Input / Output"
   ]
  },
  {
   "cell_type": "code",
   "execution_count": 1,
   "metadata": {},
   "outputs": [],
   "source": [
    "/*Run this first and only once, because running a cell containing declarations\n",
    " *throws errors when done more than once.\n",
    " *In which case you have to restart all Cells (press Esc and double press 0)\n",
    " */\n",
    "#include <iostream>\n",
    "#include <string>\n",
    "#include <fstream>\n",
    "\n",
    "using namespace std;\n",
    "\n",
    "int i;\n",
    "float f;\n",
    "char ch;\n",
    "string path = \"C:/Users/Public/Documents/test.txt\";\n",
    "\n",
    "ofstream write_file;\n",
    "ifstream read_file;\n",
    "\n",
    "string str;\n",
    "char c_arr[10];"
   ]
  },
  {
   "cell_type": "markdown",
   "metadata": {},
   "source": [
    "## Standard I/O\n",
    "\n",
    "Die Ein- und Ausgabe funktioniert bei C++ über den `<iostream>`-Header.\n",
    "Dieser enthält unter anderem die zwei globalen Objekte `std::cin` und `std::cout`."
   ]
  },
  {
   "cell_type": "markdown",
   "metadata": {},
   "source": [
    "### `cout` \n",
    "ist die standard Ausgabe und wird mit den insertion operator `<<` gefolgt von den auszugebenden Daten benutzt.\n",
    "    Es ist egal welcher Datentyp den `cout` Objekt übergeben wird, solange die einzelnen Datentypen jeweils seperat übergeben werden.\n",
    "\n",
    "Für einen Zeilensprung gibt es neben den gewohnten `'\\n'` zusätzlich die Möglichkeit den endlline-operator `std::endl` zu benutzen, dafür kann zum einen die Ausgabe, in der eine neue Zeile angefangen werden soll den `endl` operator übergeben oder man übergibt den `endl` operator an die gewünschte Ausgabe.\n"
   ]
  },
  {
   "cell_type": "code",
   "execution_count": 2,
   "metadata": {},
   "outputs": [
    {
     "name": "stdout",
     "output_type": "stream",
     "text": [
      "This is a standard output-string.\n",
      "The value of the integer i is: 29.\n",
      "792 is a randomly chosen number.\n",
      "Text in a new line\n",
      "You can also use the endline operator like this...\n",
      "...to begin a new line"
     ]
    }
   ],
   "source": [
    "cout<<\"This is a \";\n",
    "cout<<\"standard output-string.\\n\";\n",
    "\n",
    "i =29;   \n",
    "cout<<\"The value of the integer i is: \"<<i<<\".\\n\";\n",
    "cout<<(i*(i-2)+9)<<\" is a randomly chosen number.\";\n",
    "\n",
    "endl(cout);\n",
    "cout<<\"Text in a new line\\n\";\n",
    "    \n",
    "cout<<\"You can also use the endline operator like this...\"<<endl;\n",
    "cout<<\"...to begin a new line\";"
   ]
  },
  {
   "cell_type": "markdown",
   "metadata": {},
   "source": [
    "#### Formating Output\n",
    "\n",
    "Die Ausgabe der Variablen kann man mit folgenden Funktionen formatieren:"
   ]
  },
  {
   "cell_type": "markdown",
   "metadata": {},
   "source": [
    "##### Width of output\n",
    "\n",
    "Die Funktion `width()` formatiert die nächste Ausgabe, sodass falls die Ausgabe weniger Stellen hat als angegeben, diese mit Füllzeichen ausgefüllt wird.\n",
    "\n",
    "Die Funktion `fill()` ermöglicht es dieses Füllzeichen festzulegen.\n",
    "\n",
    "Normalerweise befindet sich die Ausgabe rechts von den Füllzeichen, dies lässt sich mit der Funktion `setf(std::ios_base::left)` ändern."
   ]
  },
  {
   "cell_type": "code",
   "execution_count": 3,
   "metadata": {},
   "outputs": [
    {
     "name": "stdout",
     "output_type": "stream",
     "text": [
      "  29\n",
      "~~29\n",
      "29~~\n"
     ]
    }
   ],
   "source": [
    "cout.width(4);\n",
    "cout<<i<<'\\n';\n",
    "\n",
    "cout.fill('~');\n",
    "\n",
    "cout.width(4);\n",
    "cout<<i<<'\\n';\n",
    "\n",
    "cout.setf(ios_base::left);\n",
    "cout.width(4);\n",
    "cout<<i<<'\\n';"
   ]
  },
  {
   "cell_type": "markdown",
   "metadata": {},
   "source": [
    "##### Precision of input\n",
    "\n",
    "Die Funktion `precision()` legt die Präzision der Gleitkommazahlen fest. \n",
    "\n",
    "Dabei ist zwischen zwei Fällen zu unterscheiden:\n",
    "\n",
    "Im Standardmodus legt `precision()` die Gesamtzahl der Ziffern fest.\n",
    "\n",
    "Im `fixed`- oder `scientific`-Modus legt `precision()` die Zahl der Nachkommastellen fest.\n"
   ]
  },
  {
   "cell_type": "code",
   "execution_count": 4,
   "metadata": {},
   "outputs": [
    {
     "name": "stdout",
     "output_type": "stream",
     "text": [
      "729.273\n",
      "729.2734\n",
      "729.2734375\n",
      "7.2927344e+02\n"
     ]
    }
   ],
   "source": [
    "f = 729.273456789; \n",
    "\n",
    "cout << f <<'\\n'; \n",
    "\n",
    "cout.precision(7); \n",
    "cout << f <<'\\n'; \n",
    "\n",
    "cout << fixed << f <<'\\n';\n",
    "cout << scientific<<f<<'\\n';"
   ]
  },
  {
   "cell_type": "markdown",
   "metadata": {},
   "source": [
    "### `cin` \n",
    "ist die standard Eingabe-Funktion und wird mit den extraction operator `>>` gefolgt von der Variable, der der Input zugeordnet wird, benutzt.\n",
    "\n",
    "Sollte zu viel eingegeben werden, würde der Rest in einem Puffer gespeichert und bei der nächsten Einleseoperation `>>` automatisch übergeben werden,<br> was der Eingabe durch den Nutzer zuvor kommen würde. "
   ]
  },
  {
   "cell_type": "code",
   "execution_count": 5,
   "metadata": {
    "scrolled": true
   },
   "outputs": [
    {
     "name": "stdout",
     "output_type": "stream",
     "text": [
      "input character: g7\n",
      "g\n",
      "input integer: \n",
      "7"
     ]
    }
   ],
   "source": [
    "cout<<\"input character: \";\n",
    "cin>>ch;\n",
    "cout<<ch<<endl;\n",
    "\n",
    "cout<<\"input integer: \"<<endl;\n",
    "cin>>i;\n",
    "cout<<i;"
   ]
  },
  {
   "cell_type": "markdown",
   "metadata": {},
   "source": [
    "<empty><br>"
   ]
  },
  {
   "cell_type": "markdown",
   "metadata": {},
   "source": [
    "## I/O for Files"
   ]
  },
  {
   "cell_type": "markdown",
   "metadata": {},
   "source": [
    "Für das Lesen/Schreiben von Dateien benötigt man in C++ den `<fstream>`-header.\n",
    "Dieser enthält die Klassen `ifstream`, `ofstream` und `fstream`.\n",
    "\n",
    "<i>Leider funktioniert der Zugriff auf Dateien nicht mit Jupyter. Als Alternative habe ich ein simples c++ Programm erstellt, über das die einzelnen Code-Blöcke per `switch`-Anweisung ausgeführt werden können, die untenstehenden Code-Zellen sind mit dem entsprechenden `case` gekennzeichnet."
   ]
  },
  {
   "cell_type": "markdown",
   "metadata": {},
   "source": [
    "### `ofstream`\n",
    "\n",
    "ist die write-only Klasse. \n",
    "\n",
    "Ein Objekt dieser Klasse erstellt/überschreibt eine Datei mit der `open()`-Funktion und schließt diese wieder mit der `close()`-Funktion.<br> Das Schreiben in der Datei funktioniert genau wie bei `cout` mit den insertion operator `<<`.\n",
    "\n",
    "Anstatt die `open()`-Funktion zu benutzen kann man auch den Klassen-Konstruktor benutzen in beiden Fällen muss man aber den Dateinamen übergeben. Wenn man den Dateinamen ohne den Pfad angibt, wird die Datei im aktuellen Verzeichnis angelegt. Wenn man den Pfad mit angibt muss man darauf achten, dass es das Zielverzeichnis bereits gibt und dass die Verzeichnisse entweder mit `/` oder `\\\\` getrennt sind."
   ]
  },
  {
   "cell_type": "code",
   "execution_count": 6,
   "metadata": {},
   "outputs": [],
   "source": [
    "//case 0\n",
    "write_file.open(path);\n",
    "i=27;\n",
    "write_file<<i;\n",
    "write_file.close();"
   ]
  },
  {
   "cell_type": "code",
   "execution_count": 7,
   "metadata": {},
   "outputs": [],
   "source": [
    "//case 1\n",
    "ofstream w_file(path);\n",
    "\n",
    "for(i=0;i<5;i++)\n",
    "{\n",
    "    w_file<<i<<endl; \n",
    "    endl(w_file);\n",
    "}\n",
    "w_file.close();"
   ]
  },
  {
   "cell_type": "markdown",
   "metadata": {},
   "source": [
    "### `ifstream`\n",
    "\n",
    "ist die read-only Klasse.\n",
    "\n",
    "Das Öffnen einer Datei erfolgt genau wie bei `ofstream` entweder durch den Konstruktor oder die `open()`-Funktion und das Schließen durch die `close()`-Funktion. Das Lesen der Datei erfolgt über die Funktionen `get()`, `getline()` oder den extraction operator `>>`."
   ]
  },
  {
   "cell_type": "markdown",
   "metadata": {},
   "source": [
    "#### `get`\n",
    "\n",
    "ist dreifach überladen:<br>\n",
    "Entweder liest `get` nur ein einzelnes Zeichen ein und speichert es im angegebenen `char`.<br>\n",
    "Oder `get` liest die angegebene Anzahl an Zeichen ein und speichert sie in einen `char[]`,<br>\n",
    "in dem Fall kann man optional einen `char` angeben, der das Einlesen frühzeitig beendet, sobald er eingelesen wurde."
   ]
  },
  {
   "cell_type": "code",
   "execution_count": 8,
   "metadata": {},
   "outputs": [
    {
     "name": "stdout",
     "output_type": "stream",
     "text": [
      "g\n",
      "\n",
      "\n"
     ]
    }
   ],
   "source": [
    "//case 2\n",
    "read_file.open(path);\n",
    "\n",
    "read_file.get(ch);\n",
    "cout<<ch<<endl;\n",
    "\n",
    "read_file.close();\n",
    "\n",
    "\n",
    "read_file.open(path);\n",
    "\n",
    "read_file.get(c_arr, 10);//behaves like getline\n",
    "cout<<c_arr<<endl;\n",
    "\n",
    "read_file.get(c_arr, 10, '6');\n",
    "cout<<c_arr<<endl;\n",
    "\n",
    "read_file.close(); "
   ]
  },
  {
   "cell_type": "markdown",
   "metadata": {},
   "source": [
    "#### `getline`\n",
    "\n",
    "liest bis zum Zeilenende oder bis die angegebene Anzahl an Zeichen eingelesen wurde.<br>\n",
    "\n",
    "Alternativ kann man `getline` auch nicht als Memberfunktion sondern als eigenständig Funktion aufrufen,<br>\n",
    "dazu übergibt man der Funktion einen Eingabestream (z.B.:`ifstream`-Objekt) und einen `String`, in dem das Eingelesene gespeichert wird."
   ]
  },
  {
   "cell_type": "code",
   "execution_count": 9,
   "metadata": {},
   "outputs": [],
   "source": [
    "//case 3\n",
    "read_file.open(path);\n",
    "\n",
    "read_file.getline(c_arr, 10);\n",
    "cout<<c_arr;\n",
    "\n",
    "\n",
    "getline(read_file,str);\n",
    "cout<<str;\n",
    "\n",
    "read_file.close();"
   ]
  },
  {
   "cell_type": "markdown",
   "metadata": {},
   "source": [
    "#### Read Files via extraction operator\n",
    "\n",
    "Mit Hilfe des extraction operators`>>` kann eine Datei Wort für Wort ausgelesen werden, Leerzeichen, Tabulatoren und Zeilenumbrüche beenden den Einlesevorgang."
   ]
  },
  {
   "cell_type": "code",
   "execution_count": 10,
   "metadata": {},
   "outputs": [],
   "source": [
    "//case 4\n",
    "read_file.open(path);\n",
    "\n",
    "read_file>>str;\n",
    "cout<<str;\n",
    "\n",
    "read_file.close();"
   ]
  },
  {
   "cell_type": "markdown",
   "metadata": {},
   "source": [
    "#### Check if file is open\n",
    "\n",
    "Mit der `is_open()` Funktion kann man überprüfen ob die Datei geöffnet wurde oder nicht.<br>\n",
    "Außerdem kann man, indem man ein `ifstream` Objekt mit dem Pfad einer Datei öffnet und darauf die `is_open()` Funktion anwendet, überprüfen ob diese Datei existiert oder zumindest ob sie zugänglich ist."
   ]
  },
  {
   "cell_type": "code",
   "execution_count": 11,
   "metadata": {},
   "outputs": [
    {
     "name": "stdout",
     "output_type": "stream",
     "text": [
      "File not opened!\n"
     ]
    }
   ],
   "source": [
    "//case 5\n",
    "read_file.open(path);\n",
    "\n",
    "if(read_file.is_open())\n",
    "{\n",
    "    cout<<\"File opened succesfully.\"<<endl;   \n",
    "}\n",
    "else\n",
    "{\n",
    "    cout<<\"File not opened!\"<<endl;\n",
    "}\n",
    "read_file.close();"
   ]
  },
  {
   "cell_type": "markdown",
   "metadata": {},
   "source": [
    "#### end of file\n",
    "\n",
    "Die Funktion `eof()` muss vorsichtig benutzt werden, da sie prüft ob das end-of-file-bit gesetzt wurde, was erst passiert wenn die `get()` oder `getline` Funktion fehlgeschlagen ist.\n",
    "In anderen Worten: Eine Schleife die `eof()` als Abbruchkriterium benutzt, durchläuft immer einen zusätzlichen Durchlauf nachdem das Ende der Datei erreicht ist."
   ]
  },
  {
   "cell_type": "code",
   "execution_count": 12,
   "metadata": {},
   "outputs": [],
   "source": [
    "//case 6\n",
    "read_file.open(path);\n",
    "\n",
    "if(read_file.is_open())\n",
    "{\n",
    "    while(!read_file.eof())\n",
    "    {\n",
    "        read_file>>str;\n",
    "        cout<<str<<endl;\n",
    "    }\n",
    "}\n",
    "read_file.close();"
   ]
  },
  {
   "cell_type": "markdown",
   "metadata": {},
   "source": [
    "#### ignore input\n",
    "\n",
    "Mit der `ignore()` Funktion kann man einen Teil der Eingabe überspringen, indem man sie ignoriert. Die Funktion extrahiert solange `chars` von der Eingabe bis die angegebene Menge erreicht ist oder der angegebene `char` extrahiert wurde.<br>\n",
    "Mithilfe dieser Funktion kann man zum Beispiel nach einer `get()` Funktion das`\\n` ignorieren und so in die nächste Zeile der Eingabe springen."
   ]
  },
  {
   "cell_type": "code",
   "execution_count": 13,
   "metadata": {},
   "outputs": [
    {
     "name": "stdout",
     "output_type": "stream",
     "text": [
      "g\n",
      "\n",
      "\n"
     ]
    }
   ],
   "source": [
    "//case 7 (compare this to case 2)\n",
    "read_file.open(path);\n",
    "\n",
    "read_file.get(ch);\n",
    "cout<<ch<<endl;\n",
    "\n",
    "read_file.ignore(10,'\\n');\n",
    "\n",
    "read_file.get(c_arr, 10);\n",
    "cout<<c_arr<<endl;\n",
    "\n",
    "read_file.get(c_arr, 10, '6');\n",
    "cout<<c_arr<<endl;\n",
    "\n",
    "read_file.close();"
   ]
  },
  {
   "cell_type": "markdown",
   "metadata": {},
   "source": [
    "### Open-Modes\n",
    "\n",
    "Es ist möglich die Dateien in verschiedenen Modi zu öffnen, wie zum Beispiel den Append-Modus `std::ios_base::app`, der die Eingabe am Ende der Datei anhängt, wodurch verhindert wird, dass die geöffnete Datei überschrieben wird.<br>\n",
    "Oder der Binary-Modus `std::ios_base::binary`, der eine Datei im Binär-format öffnet."
   ]
  },
  {
   "cell_type": "code",
   "execution_count": 14,
   "metadata": {},
   "outputs": [],
   "source": [
    "//case 8\n",
    "write_file.open(path,ios_base::app);\n",
    "write_file<<\"\\n appended\"; \n",
    "write_file.close();"
   ]
  },
  {
   "cell_type": "markdown",
   "metadata": {},
   "source": [
    "<empty>"
   ]
  },
  {
   "cell_type": "markdown",
   "metadata": {},
   "source": [
    "### `fstream`\n",
    "\n",
    "erbt von den `ofstream` und `ifstream` Klassen und kann sowohl lesen, als auch schreiben. \n",
    "\n",
    "#### jump to start of file\n",
    "Mit der `seekg()` Funktion kann man innerhalb einer Datei zu einer bestimmten Position springen. Übergibt man der Funktion den Wert 0 oder `ios_base::beg` springt diese zum Anfang der Datei."
   ]
  },
  {
   "cell_type": "code",
   "execution_count": 15,
   "metadata": {},
   "outputs": [
    {
     "name": "stderr",
     "output_type": "stream",
     "text": [
      "input_line_23:3:1: error: use of undeclared identifier 'rw_file'; did you mean 'w_file'?\n",
      "rw_file.open(path);\n",
      "^~~~~~~\n",
      "w_file\n",
      "input_line_15:3:10: note: 'w_file' declared here\n",
      "ofstream w_file(path);\n",
      "         ^\n",
      "input_line_23:6:5: error: use of undeclared identifier 'rw_file'; did you mean 'w_file'?\n",
      "    rw_file<<i<<\"\\n\";\n",
      "    ^~~~~~~\n",
      "    w_file\n",
      "input_line_15:3:10: note: 'w_file' declared here\n",
      "ofstream w_file(path);\n",
      "         ^\n",
      "input_line_23:8:1: error: use of undeclared identifier 'rw_file'; did you mean 'w_file'?\n",
      "rw_file.seekg(ios_base::beg);\n",
      "^~~~~~~\n",
      "w_file\n",
      "input_line_15:3:10: note: 'w_file' declared here\n",
      "ofstream w_file(path);\n",
      "         ^\n",
      "input_line_23:8:9: error: no member named 'seekg' in 'std::basic_ofstream<char>'\n",
      "rw_file.seekg(ios_base::beg);\n",
      "~~~~~~~ ^\n",
      "input_line_23:11:5: error: use of undeclared identifier 'rw_file'; did you mean 'w_file'?\n",
      "    rw_file>>str;\n",
      "    ^~~~~~~\n",
      "    w_file\n",
      "input_line_15:3:10: note: 'w_file' declared here\n",
      "ofstream w_file(path);\n",
      "         ^\n",
      "input_line_23:11:12: error: invalid operands to binary expression ('std::ofstream' (aka 'basic_ofstream<char>') and 'std::__cxx11::string' (aka 'basic_string<char>'))\n",
      "    rw_file>>str;\n",
      "    ~~~~~~~^ ~~~\n",
      "/opt/conda/envs/cling/bin/../lib/gcc/../../gcc/include/c++/streambuf:168:9: note: candidate template ignored: could not match 'basic_istream' against 'basic_ofstream'\n",
      "        operator>>(basic_istream<_CharT2, _Traits2>&,\n",
      "        ^\n",
      "/opt/conda/envs/cling/bin/../lib/gcc/../../gcc/include/c++/istream:756:5: note: candidate template ignored: could not match 'basic_istream' against 'basic_ofstream'\n",
      "    operator>>(basic_istream<char, _Traits>& __in, unsigned char& __c)\n",
      "    ^\n",
      "/opt/conda/envs/cling/bin/../lib/gcc/../../gcc/include/c++/istream:761:5: note: candidate template ignored: could not match 'basic_istream' against 'basic_ofstream'\n",
      "    operator>>(basic_istream<char, _Traits>& __in, signed char& __c)\n",
      "    ^\n",
      "/opt/conda/envs/cling/bin/../lib/gcc/../../gcc/include/c++/istream:803:5: note: candidate template ignored: could not match 'basic_istream' against 'basic_ofstream'\n",
      "    operator>>(basic_istream<char, _Traits>& __in, unsigned char* __s)\n",
      "    ^\n",
      "/opt/conda/envs/cling/bin/../lib/gcc/../../gcc/include/c++/istream:808:5: note: candidate template ignored: could not match 'basic_istream' against 'basic_ofstream'\n",
      "    operator>>(basic_istream<char, _Traits>& __in, signed char* __s)\n",
      "    ^\n",
      "/opt/conda/envs/cling/bin/../lib/gcc/../../gcc/include/c++/bits/istream.tcc:923:5: note: candidate template ignored: could not match 'basic_istream' against 'basic_ofstream'\n",
      "    operator>>(basic_istream<_CharT, _Traits>& __in, _CharT& __c)\n",
      "    ^\n",
      "/opt/conda/envs/cling/bin/../lib/gcc/../../gcc/include/c++/bits/istream.tcc:955:5: note: candidate template ignored: could not match 'basic_istream' against 'basic_ofstream'\n",
      "    operator>>(basic_istream<_CharT, _Traits>& __in, _CharT* __s)\n",
      "    ^\n",
      "/opt/conda/envs/cling/bin/../lib/gcc/../../gcc/include/c++/bits/valarray_after.h:411:5: note: candidate template ignored: could not match '_Expr' against 'basic_ofstream'\n",
      "    _DEFINE_EXPR_BINARY_OPERATOR(>>, __shift_right)\n",
      "    ^\n",
      "/opt/conda/envs/cling/bin/../lib/gcc/../../gcc/include/c++/bits/valarray_after.h:341:5: note: expanded from macro '_DEFINE_EXPR_BINARY_OPERATOR'\n",
      "    operator _Op(const _Expr<_Dom1, typename _Dom1::value_type>& __v,   \\\n",
      "    ^\n",
      "/opt/conda/envs/cling/bin/../lib/gcc/../../gcc/include/c++/bits/valarray_after.h:411:5: note: candidate template ignored: could not match '_Expr' against 'basic_ofstream'\n",
      "/opt/conda/envs/cling/bin/../lib/gcc/../../gcc/include/c++/bits/valarray_after.h:354:5: note: expanded from macro '_DEFINE_EXPR_BINARY_OPERATOR'\n",
      "    operator _Op(const _Expr<_Dom, typename _Dom::value_type>& __v,     \\\n",
      "    ^\n",
      "/opt/conda/envs/cling/bin/../lib/gcc/../../gcc/include/c++/bits/valarray_after.h:411:5: note: candidate template ignored: could not match '_Expr' against 'basic_string'\n",
      "/opt/conda/envs/cling/bin/../lib/gcc/../../gcc/include/c++/bits/valarray_after.h:367:5: note: expanded from macro '_DEFINE_EXPR_BINARY_OPERATOR'\n",
      "    operator _Op(const typename _Dom::value_type& __t,                  \\\n",
      "    ^\n",
      "/opt/conda/envs/cling/bin/../lib/gcc/../../gcc/include/c++/bits/valarray_after.h:411:5: note: candidate template ignored: could not match '_Expr' against 'basic_ofstream'\n",
      "/opt/conda/envs/cling/bin/../lib/gcc/../../gcc/include/c++/bits/valarray_after.h:380:5: note: expanded from macro '_DEFINE_EXPR_BINARY_OPERATOR'\n",
      "    operator _Op(const _Expr<_Dom,typename _Dom::value_type>& __e,      \\\n",
      "    ^\n",
      "/opt/conda/envs/cling/bin/../lib/gcc/../../gcc/include/c++/bits/valarray_after.h:411:5: note: candidate template ignored: could not match '_Expr' against 'basic_string'\n",
      "/opt/conda/envs/cling/bin/../lib/gcc/../../gcc/include/c++/bits/valarray_after.h:393:5: note: expanded from macro '_DEFINE_EXPR_BINARY_OPERATOR'\n",
      "    operator _Op(const valarray<typename _Dom::value_type>& __v,        \\\n",
      "    ^\n",
      "/opt/conda/envs/cling/bin/../lib/gcc/../../gcc/include/c++/istream:980:5: note: candidate template ignored: requirement '__and_<__not_<is_lvalue_reference<basic_ofstream<char> &> >, __is_convertible_to_basic_istream<basic_ofstream<char> &>, __is_extractable<__rvalue_istream_type<basic_ofstream<char> &>, basic_string<char> &&> >::value' was not satisfied [with _Istream = std::basic_ofstream<char> &, _Tp = std::__cxx11::basic_string<char> &]\n",
      "    operator>>(_Istream&& __is, _Tp&& __x)\n",
      "    ^\n",
      "/opt/conda/envs/cling/bin/../lib/gcc/../../gcc/include/c++/valarray:1181:1: note: candidate template ignored: could not match 'valarray' against 'basic_ofstream'\n",
      "_DEFINE_BINARY_OPERATOR(>>, __shift_right)\n",
      "^\n",
      "/opt/conda/envs/cling/bin/../lib/gcc/../../gcc/include/c++/valarray:1144:5: note: expanded from macro '_DEFINE_BINARY_OPERATOR'\n",
      "    operator _Op(const valarray<_Tp>& __v, const valarray<_Tp>& __w)    \\\n",
      "    ^\n",
      "/opt/conda/envs/cling/bin/../lib/gcc/../../gcc/include/c++/valarray:1181:1: note: candidate template ignored: could not match 'valarray' against 'basic_ofstream'\n",
      "/opt/conda/envs/cling/bin/../lib/gcc/../../gcc/include/c++/valarray:1155:5: note: expanded from macro '_DEFINE_BINARY_OPERATOR'\n",
      "    operator _Op(const valarray<_Tp>& __v, const _Tp& __t)              \\\n",
      "    ^\n",
      "/opt/conda/envs/cling/bin/../lib/gcc/../../gcc/include/c++/valarray:1181:1: note: candidate template ignored: could not match 'valarray' against 'basic_string'\n",
      "/opt/conda/envs/cling/bin/../lib/gcc/../../gcc/include/c++/valarray:1165:5: note: expanded from macro '_DEFINE_BINARY_OPERATOR'\n",
      "    operator _Op(const _Tp& __t, const valarray<_Tp>& __v)              \\\n",
      "    ^\n",
      "/opt/conda/envs/cling/bin/../lib/gcc/../../gcc/include/c++/iomanip:71:5: note: candidate template ignored: could not match 'basic_istream' against 'basic_ofstream'\n",
      "    operator>>(basic_istream<_CharT, _Traits>& __is, _Resetiosflags __f)\n",
      "    ^\n",
      "/opt/conda/envs/cling/bin/../lib/gcc/../../gcc/include/c++/iomanip:101:5: note: candidate template ignored: could not match 'basic_istream' against 'basic_ofstream'\n",
      "    operator>>(basic_istream<_CharT, _Traits>& __is, _Setiosflags __f)\n",
      "    ^\n",
      "/opt/conda/envs/cling/bin/../lib/gcc/../../gcc/include/c++/iomanip:132:5: note: candidate template ignored: could not match 'basic_istream' against 'basic_ofstream'\n",
      "    operator>>(basic_istream<_CharT, _Traits>& __is, _Setbase __f)\n",
      "    ^\n",
      "/opt/conda/envs/cling/bin/../lib/gcc/../../gcc/include/c++/iomanip:170:5: note: candidate template ignored: could not match 'basic_istream' against 'basic_ofstream'\n",
      "    operator>>(basic_istream<_CharT, _Traits>& __is, _Setfill<_CharT> __f)\n",
      "    ^\n",
      "/opt/conda/envs/cling/bin/../lib/gcc/../../gcc/include/c++/iomanip:200:5: note: candidate template ignored: could not match 'basic_istream' against 'basic_ofstream'\n",
      "    operator>>(basic_istream<_CharT, _Traits>& __is, _Setprecision __f)\n",
      "    ^\n",
      "/opt/conda/envs/cling/bin/../lib/gcc/../../gcc/include/c++/iomanip:230:5: note: candidate template ignored: could not match 'basic_istream' against 'basic_ofstream'\n",
      "    operator>>(basic_istream<_CharT, _Traits>& __is, _Setw __f)\n",
      "    ^\n",
      "/opt/conda/envs/cling/bin/../lib/gcc/../../gcc/include/c++/iomanip:264:5: note: candidate template ignored: could not match 'basic_istream' against 'basic_ofstream'\n"
     ]
    },
    {
     "name": "stderr",
     "output_type": "stream",
     "text": [
      "    operator>>(basic_istream<_CharT, _Traits>& __is, _Get_money<_MoneyT> __f)\n",
      "    ^\n",
      "/opt/conda/envs/cling/bin/../lib/gcc/../../gcc/include/c++/iomanip:418:5: note: candidate template ignored: could not match 'basic_istream' against 'basic_ofstream'\n",
      "    operator>>(basic_istream<_CharT, _Traits>& __is, _Get_time<_CharT> __f)\n",
      "    ^\n",
      "input_line_23:14:1: error: use of undeclared identifier 'rw_file'; did you mean 'w_file'?\n",
      "rw_file.close();\n",
      "^~~~~~~\n",
      "w_file\n",
      "input_line_15:3:10: note: 'w_file' declared here\n",
      "ofstream w_file(path);\n",
      "         ^\n"
     ]
    },
    {
     "ename": "Interpreter Error",
     "evalue": "",
     "output_type": "error",
     "traceback": [
      "Interpreter Error: "
     ]
    }
   ],
   "source": [
    "//case 9\n",
    "rw_file.open(path);\n",
    "for(i=0;i<9;i++)\n",
    "{\n",
    "    rw_file<<i<<\"\\n\";\n",
    "}\n",
    "\n",
    "rw_file.seekg(ios_base::beg);\n",
    "\n",
    "for(i=0;i<9;i++)\n",
    "{\n",
    "    rw_file>>str;\n",
    "    cout<<str<<endl;\n",
    "}\n",
    "\n",
    "rw_file.close();"
   ]
  },
  {
   "cell_type": "markdown",
   "metadata": {},
   "source": [
    "<empty>"
   ]
  }
 ],
 "metadata": {
  "kernelspec": {
   "display_name": "C++14",
   "language": "C++14",
   "name": "xeus-cling-cpp14"
  },
  "language_info": {
   "codemirror_mode": "text/x-c++src",
   "file_extension": ".cpp",
   "mimetype": "text/x-c++src",
   "name": "c++",
   "version": "-std=c++14"
  }
 },
 "nbformat": 4,
 "nbformat_minor": 4
}
