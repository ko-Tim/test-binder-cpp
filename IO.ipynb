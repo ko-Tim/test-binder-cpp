{
 "cells": [
  {
   "cell_type": "markdown",
   "metadata": {},
   "source": [
    "# Input / Output"
   ]
  },
  {
   "cell_type": "markdown",
   "metadata": {},
   "source": [
    "## Standard I/O\n",
    "\n",
    "Die Ein- und Ausgabe funktioniert bei C++ über den `<iostream>`-Header.\n",
    "Dieser enthält unter anderem die zwei globalen Objekte `cin` und `cout`."
   ]
  },
  {
   "cell_type": "markdown",
   "metadata": {},
   "source": [
    "### `cout` \n",
    "ist die standard Ausgabe und wird mit den insertion operator `<<` gefolgt von den auszugebenden Daten benutzt.\n",
    "    Es ist egal welcher Datentyp den `cout` Objekt übergeben wird, solange die einzelnen Datentypen jeweils seperat übergeben werden.\n",
    "\n",
    "Für einen Zeilensprung gibt es neben den gewohnten `'\\n'` zusätzlich die Möglichkeit den endlline-operator `std::endl` zu benutzen, dafür kann zum einen die Ausgabe, in der eine neue Zeile angefangen werden soll den `endl` operator übergeben oder man übergibt den `endl` operator an die gewünschte Ausgabe.\n"
   ]
  },
  {
   "cell_type": "code",
   "execution_count": null,
   "metadata": {},
   "outputs": [],
   "source": [
    "#include <iostream>\n",
    "\n",
    "std::cout<<\\\"This is a \\\";\n",
    "std::cout<<\\\"standard output-string.\\\\n\\\";\n",
    "    \n",
    "int i = 29;\n",
    "\n",
    "std::cout<<\"The value of the integer i is: \"<<i<<\".\\n\";\n",
    "std::cout<<(i*(i-2)+9)<<\"is a randomly chosen number.\";\n",
    "std::endl(std::cout);\n",
    "std::cout<<\\\"Text in a new line\\\\n\\\";\n",
    "    \n",
    "//std:cout<<\"You can also use the endline operator like this\"<<endl;\n",
    "//std::cout<<\"This would normally be in a new line, but Jupyter throws errors when encountering`<<endl`\";"
   ]
  },
  {
   "cell_type": "markdown",
   "metadata": {},
   "source": [
    "#### Formating Output\n",
    "\n",
    "Die Ausgabe der Variablen kann man mit folgenden Funktionen formatieren:"
   ]
  },
  {
   "cell_type": "markdown",
   "metadata": {},
   "source": [
    "##### Width of output\n",
    "\n",
    "Die Funktion `width()` formatiert die nächste Ausgabe, sodass falls die Ausgabe weniger Stellen hat als angegeben, diese mit Füllzeichen ausgefüllt wird.\n",
    "\n",
    "Die Funktion `fill()` ermöglicht es dieses Füllzeichen festzulegen.\n",
    "\n",
    "Normalerweise befindet sich die Ausgabe rechts von den Füllzeichen, dies lässt sich mit der Funktion `setf(ios_base::left)` ändern."
   ]
  },
  {
   "cell_type": "code",
   "execution_count": null,
   "metadata": {},
   "outputs": [],
   "source": [
    "cout.width(4)\n",
    "cout<<i<<'\\n';\n",
    "\n",
    "cout.fill('~');\n",
    "\n",
    "cout.width(4)\n",
    "cout<<i<<'\\n';\n",
    "\n",
    "cout.setf(ios_base::left);\n",
    "cout.width(4);\n",
    "cout<<i<<'\\n';"
   ]
  },
  {
   "cell_type": "markdown",
   "metadata": {},
   "source": [
    "##### Precision of input\n",
    "\n",
    "Die Funktion `precision()` legt die Präzision der Gleitkommazahlen fest. \n",
    "\n",
    "Dabei ist zwischen zwei Fällen zu unterscheiden:\n",
    "\n",
    "Im Standardmodus legt precision() die Gesamtzahl der Ziffern fest.\n",
    "\n",
    "Im fixed- oder scientific-Modus legt precision() die Zahl der Nachkommastellen fest.\n"
   ]
  },
  {
   "cell_type": "code",
   "execution_count": null,
   "metadata": {},
   "outputs": [],
   "source": [
    "f = 72.273456789; \n",
    "\n",
    "cout << f <<'\\n'; \n",
    "\n",
    "cout.precision(7); \n",
    "cout << f <<'\\n'; \n",
    "\n",
    "cout << fixed << f <<'\\n';\n",
    "cout << scientific<<f*100<<'\\n';"
   ]
  },
  {
   "cell_type": "markdown",
   "metadata": {},
   "source": [
    "### `cin` \n",
    "ist die standard Eingabe-Funktion und wird mit den extraction operator `>>` gefolgt von der Variable, der der Input zugeordnet wird, benutzt."
   ]
  },
  {
   "cell_type": "code",
   "execution_count": null,
   "metadata": {},
   "outputs": [],
   "source": [
    "char ch;\n",
    "int i;\n",
    "\n",
    "std::cin>>ch;\n",
    "std::cout<<ch;\n",
    "\n",
    "std::endl(std::cout);\n",
    "\n",
    "std::cin>>i;\n",
    "std::cout<<i;"
   ]
  },
  {
   "cell_type": "markdown",
   "metadata": {},
   "source": [
    "<empty>"
   ]
  },
  {
   "cell_type": "markdown",
   "metadata": {},
   "source": [
    "## I/O for Files"
   ]
  },
  {
   "cell_type": "markdown",
   "metadata": {},
   "source": [
    "Für das Lesen/Schreiben von Dateien benötigt man in C++ den `<fstream>`-header.\n",
    "Dieser enthält die Klassen `ifstream`, `ofstream` und `fstream`."
   ]
  },
  {
   "cell_type": "markdown",
   "metadata": {},
   "source": [
    "### `ofstream`\n",
    "\n",
    "ist die write-only Klasse"
   ]
  },
  {
   "cell_type": "code",
   "execution_count": null,
   "metadata": {},
   "outputs": [],
   "source": []
  },
  {
   "cell_type": "markdown",
   "metadata": {},
   "source": [
    "### `ifstream`\n",
    "\n",
    "ist die read-only Klasse"
   ]
  },
  {
   "cell_type": "code",
   "execution_count": null,
   "metadata": {},
   "outputs": [],
   "source": []
  },
  {
   "cell_type": "markdown",
   "metadata": {},
   "source": [
    "### `fstream`\n",
    "\n",
    "kombiniert die `ofstream` und `ifstream` Klassen und kann sowohl lesen, als auch schreiben. "
   ]
  },
  {
   "cell_type": "code",
   "execution_count": null,
   "metadata": {},
   "outputs": [],
   "source": []
  },
  {
   "cell_type": "markdown",
   "metadata": {},
   "source": []
  },
  {
   "cell_type": "code",
   "execution_count": null,
   "metadata": {},
   "outputs": [],
   "source": []
  },
  {
   "cell_type": "markdown",
   "metadata": {},
   "source": []
  }
 ],
 "metadata": {
  "kernelspec": {
   "display_name": "C++14",
   "language": "C++14",
   "name": "xcpp14"
  },
  "language_info": {
   "codemirror_mode": "text/x-c++src",
   "file_extension": ".cpp",
   "mimetype": "text/x-c++src",
   "name": "c++",
   "version": "14"
  }
 },
 "nbformat": 4,
 "nbformat_minor": 4
}
